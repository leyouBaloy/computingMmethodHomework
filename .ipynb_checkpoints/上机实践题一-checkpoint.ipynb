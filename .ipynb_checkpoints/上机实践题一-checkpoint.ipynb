{
 "cells": [
  {
   "cell_type": "markdown",
   "metadata": {},
   "source": [
    "# 1.1"
   ]
  },
  {
   "cell_type": "code",
   "execution_count": 1,
   "metadata": {},
   "outputs": [],
   "source": [
    "import math\n",
    "def fun1(x):\n",
    "    return x*(math.sqrt(x+1)-math.sqrt(x))\n",
    "def fun2(x):\n",
    "    return x/(math.sqrt(x+1)+math.sqrt(x))\n",
    "y1 = 0.414213562\n",
    "y2 = 50000"
   ]
  },
  {
   "cell_type": "code",
   "execution_count": 2,
   "metadata": {},
   "outputs": [
    {
     "name": "stdout",
     "output_type": "stream",
     "text": [
      "fun1(1)=0.41421356237309515，误差大小3.730951658731385e-10；fun2(1)=0.4142135623730951，误差大小3.730951103619873e-10\n",
      "fun1(10**10)=49999.94416721165，误差大小-0.05583278834819794；fun2(10**10)=49999.999998750005，误差大小-1.2499949662014842e-06\n"
     ]
    }
   ],
   "source": [
    "print(f\"fun1(1)={fun1(1)}，误差大小{fun1(1)-y1}；fun2(1)={fun2(1)}，误差大小{fun2(1)-y1}\")\n",
    "print(f\"fun1(10**10)={fun1(10**10)}，误差大小{fun1(10**10)-y2}；fun2(10**10)={fun2(10**10)}，误差大小{fun2(10**10)-y2}\")"
   ]
  },
  {
   "cell_type": "markdown",
   "metadata": {},
   "source": [
    "原因："
   ]
  },
  {
   "cell_type": "markdown",
   "metadata": {},
   "source": [
    "# 1.2"
   ]
  },
  {
   "cell_type": "code",
   "execution_count": 1,
   "metadata": {},
   "outputs": [],
   "source": [
    "import math\n",
    "from scipy import integrate"
   ]
  },
  {
   "cell_type": "code",
   "execution_count": 2,
   "metadata": {},
   "outputs": [],
   "source": [
    "def f(x):\n",
    "    return x**n/(x+5)"
   ]
  },
  {
   "cell_type": "code",
   "execution_count": 3,
   "metadata": {},
   "outputs": [],
   "source": [
    "def In(n):\n",
    "    return integrate.quad(f, 0, 1)"
   ]
  },
  {
   "cell_type": "code",
   "execution_count": 5,
   "metadata": {},
   "outputs": [
    {
     "name": "stdout",
     "output_type": "stream",
     "text": [
      "在递推中，I1=0.08839221603022707\n",
      "在积分中，I1=0.08839221603022687\n",
      "**********\n",
      "在递推中，I2=0.05803891984886467\n",
      "在积分中，I2=0.05803891984886565\n",
      "**********\n",
      "在递推中，I3=0.04313873408900998\n",
      "在积分中，I3=0.04313873408900506\n",
      "**********\n",
      "在递推中，I4=0.03430632955495011\n",
      "在积分中，I4=0.034306329554974715\n",
      "**********\n",
      "在递推中，I5=0.02846835222524946\n",
      "在积分中，I5=0.028468352225126427\n",
      "**********\n",
      "在递推中，I6=0.024324905540419356\n",
      "在积分中，I6=0.02432490554103456\n",
      "**********\n",
      "在递推中，I7=0.02123261515504607\n",
      "在积分中，I7=0.021232615151970065\n",
      "**********\n",
      "在递推中，I8=0.018836924224769652\n",
      "在积分中，I8=0.018836924240149672\n",
      "**********\n",
      "在递推中，I9=0.016926489987262844\n",
      "在积分中，I9=0.01692648991036278\n",
      "**********\n",
      "在递推中，I10=0.015367550063685786\n",
      "在积分中，I10=0.015367550448186112\n",
      "**********\n",
      "在递推中，I11=0.01407134059066198\n",
      "在积分中，I11=0.014071338668160361\n",
      "**********\n",
      "在递推中，I12=0.012976630380023432\n",
      "在积分中，I12=0.012976639992531552\n",
      "**********\n",
      "在递推中，I13=0.012039925022959766\n",
      "在积分中，I13=0.012039876960419183\n",
      "**********\n",
      "在递推中，I14=0.011228946313772595\n",
      "在积分中，I14=0.011229186626475532\n",
      "**********\n",
      "在递推中，I15=0.010521935097803692\n",
      "在积分中，I15=0.010520733534289037\n",
      "**********\n",
      "在递推中，I16=0.00989032451098154\n",
      "在积分中，I16=0.009896332328554842\n",
      "**********\n",
      "在递推中，I17=0.009371906856857001\n",
      "在积分中，I17=0.009341867768990519\n",
      "**********\n",
      "在递推中，I18=0.008696021271270546\n",
      "在积分中，I18=0.008846216710602975\n",
      "**********\n",
      "在递推中，I19=0.009151472591015689\n",
      "在积分中，I19=0.008400495394353568\n",
      "**********\n",
      "在递推中，I20=0.00424263704492156\n",
      "在积分中，I20=0.007997523028232166\n",
      "**********\n"
     ]
    }
   ],
   "source": [
    "I = math.log(1.2)\n",
    "for n in range(20):\n",
    "    n = n+1\n",
    "    I = -5*I+1/n\n",
    "    print(f\"在递推中，I{n}={I}\")\n",
    "    print(f\"在积分中，I{n}={In(n)[0]}\")\n",
    "    print(\"*\"*10)"
   ]
  },
  {
   "cell_type": "markdown",
   "metadata": {},
   "source": [
    "结果合理"
   ]
  },
  {
   "cell_type": "code",
   "execution_count": null,
   "metadata": {},
   "outputs": [],
   "source": []
  }
 ],
 "metadata": {
  "kernelspec": {
   "display_name": "Python 3",
   "language": "python",
   "name": "python3"
  },
  "language_info": {
   "codemirror_mode": {
    "name": "ipython",
    "version": 3
   },
   "file_extension": ".py",
   "mimetype": "text/x-python",
   "name": "python",
   "nbconvert_exporter": "python",
   "pygments_lexer": "ipython3",
   "version": "3.8.5"
  }
 },
 "nbformat": 4,
 "nbformat_minor": 4
}
