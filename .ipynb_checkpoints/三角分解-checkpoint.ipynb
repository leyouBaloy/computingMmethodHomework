{
 "cells": [
  {
   "cell_type": "markdown",
   "metadata": {},
   "source": [
    "# 三角分解法解线性方程组\n",
    "参考：https://blog.csdn.net/xfijun/article/details/108561962"
   ]
  },
  {
   "cell_type": "code",
   "execution_count": 1,
   "metadata": {},
   "outputs": [],
   "source": [
    "import numpy as np"
   ]
  },
  {
   "cell_type": "code",
   "execution_count": 33,
   "metadata": {},
   "outputs": [],
   "source": [
    "import numpy as np\n",
    "def LUFact(A):# LU Factorization，分解为L,U矩阵\n",
    "    n = len(A)\n",
    "    L = np.eye(n)\n",
    "    U = np.zeros(A.shape)\n",
    "    U[0,:] = A[0,:]\n",
    "    L[1:,0] = A[1:,0]/U[0,0]\n",
    "    for r in range(1,n):\n",
    "        lt = L[r,:r].reshape(r,1)\n",
    "        U[r,r:] = A[r,r:] - np.sum(lt*U[:r,r:],axis=0)\n",
    "        print('\\n#U%d:'%(r))\n",
    "        print(U)\n",
    "        if r==n-1:\n",
    "            continue\n",
    "        ut = U[:r,r].reshape(r,1)\n",
    "        L[r+1:,r] = (A[r+1:,r] - np.sum(ut*L[r+1:,:r].T,axis=0))/U[r,r]   \n",
    "        print('\\n#L%d:'%(r))\n",
    "        print(L)\n",
    "    return L,U\n",
    "    \n",
    "def solveLineq(L,U,b):#根据分解后的矩阵计算\n",
    "    # Ly = b\n",
    "    rows = len(b)\n",
    "    y = np.zeros(rows)\n",
    "    y[0] = b[0]/L[0,0]\n",
    "    for k in range(1,rows):\n",
    "        y[k] = (b[k] - np.sum(L[k,:k]*y[:k]))/L[k,k]   \n",
    "    # Ux = y (back substitution)     \n",
    "    x = np.zeros(rows)\n",
    "    k = rows-1\n",
    "    x[k] = y[k]/U[k,k] \n",
    "    for k in range(rows-2,-1,-1):\n",
    "        x[k] = (y[k] - np.sum(x[k+1:]*U[k,k+1:]))/U[k,k]    \n",
    "    return x\n",
    "\n",
    "def SanJiao(A, b):#封装三角分解法\n",
    "    \"\"\"\n",
    "    输入：A：numpy矩阵\n",
    "          b：numpy矩阵，无需转置\n",
    "    输出：x：numpy矩阵\n",
    "    \"\"\"\n",
    "    L,U = LUFact(A)\n",
    "    x = solveLineq(L,U,b)\n",
    "    return x"
   ]
  },
  {
   "cell_type": "code",
   "execution_count": 34,
   "metadata": {},
   "outputs": [
    {
     "name": "stdout",
     "output_type": "stream",
     "text": [
      "\n",
      "#U1:\n",
      "[[ 1.  2.  3.]\n",
      " [ 0.  1. -4.]\n",
      " [ 0.  0.  0.]]\n",
      "\n",
      "#L1:\n",
      "[[ 1.  0.  0.]\n",
      " [ 2.  1.  0.]\n",
      " [ 3. -5.  1.]]\n",
      "\n",
      "#U2:\n",
      "[[  1.   2.   3.]\n",
      " [  0.   1.  -4.]\n",
      " [  0.   0. -24.]]\n"
     ]
    },
    {
     "data": {
      "text/plain": [
       "array([1., 2., 3.])"
      ]
     },
     "execution_count": 34,
     "metadata": {},
     "output_type": "execute_result"
    }
   ],
   "source": [
    "A = np.array([[1,2,3],[2,5,2],[3,1,5]])\n",
    "b = np.array([14,18,20])\n",
    "SanJiao(A,b)"
   ]
  }
 ],
 "metadata": {
  "kernelspec": {
   "display_name": "Python 3",
   "language": "python",
   "name": "python3"
  },
  "language_info": {
   "codemirror_mode": {
    "name": "ipython",
    "version": 3
   },
   "file_extension": ".py",
   "mimetype": "text/x-python",
   "name": "python",
   "nbconvert_exporter": "python",
   "pygments_lexer": "ipython3",
   "version": "3.8.5"
  }
 },
 "nbformat": 4,
 "nbformat_minor": 4
}
