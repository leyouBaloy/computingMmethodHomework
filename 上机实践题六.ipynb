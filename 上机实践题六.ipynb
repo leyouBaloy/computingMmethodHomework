{
 "cells": [
  {
   "cell_type": "code",
   "execution_count": 8,
   "id": "91710bd5",
   "metadata": {},
   "outputs": [],
   "source": [
    "import numpy as np\n",
    "import numpy as np\n",
    "import matplotlib.pyplot as plt\n",
    "%matplotlib inline\n",
    "plt.rcParams['font.sans-serif'] = ['Arial Unicode MS'] #不能运行的话改成SimHei\n",
    "plt.rcParams['axes.unicode_minus'] = False  # 负号正常显示"
   ]
  },
  {
   "cell_type": "markdown",
   "id": "2997f645",
   "metadata": {},
   "source": [
    "# 改进的欧拉法"
   ]
  },
  {
   "cell_type": "code",
   "execution_count": 39,
   "id": "e7595d61",
   "metadata": {},
   "outputs": [],
   "source": [
    "def GJOLF(a, b, h, f, y0):\n",
    "    y = []\n",
    "    y.append(y0)\n",
    "    x = np.arange(a, b+h, h)\n",
    "#     print(b+h)\n",
    "#     print(x)\n",
    "    for i in range(len(x)-1):\n",
    "        y_next = y[i] + h*f(x[i], y[i])\n",
    "        y_next = y[i] + (h/2)*(f(x[i], y[i])+f(x[i+1],y_next))\n",
    "        y.append(y_next)\n",
    "    for i in range(len(x)):\n",
    "        print(f\"第{i}次迭代：x={x[i]}，y={y[i]}\")\n",
    "    return x,y"
   ]
  },
  {
   "cell_type": "code",
   "execution_count": 40,
   "id": "2625e91f",
   "metadata": {},
   "outputs": [],
   "source": [
    "def test(x, y):\n",
    "    return y-2*x/y"
   ]
  },
  {
   "cell_type": "code",
   "execution_count": 41,
   "id": "13fbd365",
   "metadata": {},
   "outputs": [
    {
     "name": "stdout",
     "output_type": "stream",
     "text": [
      "第0次迭代：x=0.0，y=1\n",
      "第1次迭代：x=0.1，y=1.095909090909091\n",
      "第2次迭代：x=0.2，y=1.1840965692429972\n",
      "第3次迭代：x=0.30000000000000004，y=1.2662013608757763\n",
      "第4次迭代：x=0.4，y=1.3433601514839986\n",
      "第5次迭代：x=0.5，y=1.4164019285369094\n",
      "第6次迭代：x=0.6000000000000001，y=1.485955602415669\n",
      "第7次迭代：x=0.7000000000000001，y=1.5525140913261455\n",
      "第8次迭代：x=0.8，y=1.6164747827520576\n",
      "第9次迭代：x=0.9，y=1.6781663636751858\n"
     ]
    },
    {
     "data": {
      "text/plain": [
       "(array([0. , 0.1, 0.2, 0.3, 0.4, 0.5, 0.6, 0.7, 0.8, 0.9]),\n",
       " [1,\n",
       "  1.095909090909091,\n",
       "  1.1840965692429972,\n",
       "  1.2662013608757763,\n",
       "  1.3433601514839986,\n",
       "  1.4164019285369094,\n",
       "  1.485955602415669,\n",
       "  1.5525140913261455,\n",
       "  1.6164747827520576,\n",
       "  1.6781663636751858])"
      ]
     },
     "execution_count": 41,
     "metadata": {},
     "output_type": "execute_result"
    }
   ],
   "source": [
    "GJOLF(0, 0.9, 0.1, test, 1)"
   ]
  },
  {
   "cell_type": "markdown",
   "id": "b8ff67ed",
   "metadata": {},
   "source": [
    "# T6.1"
   ]
  },
  {
   "cell_type": "code",
   "execution_count": 42,
   "id": "649eb537",
   "metadata": {},
   "outputs": [],
   "source": [
    "def f1(x, y):\n",
    "    return x**2 + (x**3)*y"
   ]
  },
  {
   "cell_type": "code",
   "execution_count": 52,
   "id": "5a6b3782",
   "metadata": {},
   "outputs": [
    {
     "name": "stdout",
     "output_type": "stream",
     "text": [
      "第0次迭代：x=1.0，y=1\n",
      "第1次迭代：x=1.1，y=1.2403600000000001\n",
      "第2次迭代：x=1.2000000000000002，y=1.5872914035424004\n",
      "第3次迭代：x=1.3000000000000003，y=2.1012458338929507\n",
      "第4次迭代：x=1.4000000000000004，y=2.8893829341279065\n",
      "第5次迭代：x=1.5000000000000004，y=4.150757519589133\n",
      "第6次迭代：x=1.6000000000000005，y=6.274753350785657\n"
     ]
    }
   ],
   "source": [
    "x,y = GJOLF(1, 1.5, 0.1, f1, 1)\n",
    "correct = np.array([1.        , 0.90483742, 0.81873075, 0.74081822, 0.67032005,\n",
    "       0.60653066, 0.54881164, 0.4965853 , 0.44932896, 0.40656966])"
   ]
  },
  {
   "cell_type": "markdown",
   "id": "f471a0d0",
   "metadata": {},
   "source": [
    "# 龙格-库塔法"
   ]
  },
  {
   "cell_type": "code",
   "execution_count": 17,
   "id": "55ea359e",
   "metadata": {},
   "outputs": [],
   "source": [
    "def LGKTF(a, b, h, f, y0):\n",
    "    x = np.arange(a, b+h, h)\n",
    "    y = [y0]\n",
    "    for i in range(len(x)-1):\n",
    "        k1 = f(x[i], y[i])\n",
    "        k2 = f(x[i]+h/2, y[i]+h*k1/2)\n",
    "        k3 = f(x[i]+h/2, y[i]+h*k2/2)\n",
    "        k4 = f(x[i]+h, y[i]+h*k3)\n",
    "        y_next = y[i] + (h/6)*(k1+2*k2+2*k3+k4)\n",
    "        y.append(y_next)\n",
    "    for i in range(len(x)):\n",
    "        print(f\"第{i}次迭代：x={x[i]}，y={y[i]}\")\n",
    "    return x,y"
   ]
  },
  {
   "cell_type": "code",
   "execution_count": 18,
   "id": "698499ae",
   "metadata": {},
   "outputs": [
    {
     "name": "stdout",
     "output_type": "stream",
     "text": [
      "第0次迭代：x=0.0，y=1\n",
      "第1次迭代：x=0.2，y=1.183229287445307\n",
      "第2次迭代：x=0.4，y=1.3416669298526065\n",
      "第3次迭代：x=0.6000000000000001，y=1.4832814583502616\n",
      "第4次迭代：x=0.8，y=1.6125140416775265\n",
      "第5次迭代：x=1.0，y=1.7321418826911932\n"
     ]
    },
    {
     "data": {
      "text/plain": [
       "(array([0. , 0.2, 0.4, 0.6, 0.8, 1. ]),\n",
       " [1,\n",
       "  1.183229287445307,\n",
       "  1.3416669298526065,\n",
       "  1.4832814583502616,\n",
       "  1.6125140416775265,\n",
       "  1.7321418826911932])"
      ]
     },
     "execution_count": 18,
     "metadata": {},
     "output_type": "execute_result"
    }
   ],
   "source": [
    "LGKTF(0, 0.9, 0.2, test, 1)"
   ]
  },
  {
   "cell_type": "markdown",
   "id": "9f520270",
   "metadata": {},
   "source": [
    "# T6.2"
   ]
  },
  {
   "cell_type": "code",
   "execution_count": 23,
   "id": "88d2b894",
   "metadata": {},
   "outputs": [],
   "source": [
    "def f2(x, y):\n",
    "    return -y"
   ]
  },
  {
   "cell_type": "code",
   "execution_count": 57,
   "id": "df947c60",
   "metadata": {},
   "outputs": [
    {
     "name": "stdout",
     "output_type": "stream",
     "text": [
      "第0次迭代：x=-1.0，y=1\n",
      "第1次迭代：x=-0.9，y=0.9048375\n",
      "第2次迭代：x=-0.8，y=0.8187309014062499\n",
      "第3次迭代：x=-0.7000000000000001，y=0.7408184220011776\n",
      "第4次迭代：x=-0.6000000000000001，y=0.6703202889174906\n",
      "第5次迭代：x=-0.5000000000000001，y=0.6065309344233799\n",
      "第6次迭代：x=-0.40000000000000013，y=0.548811934376315\n",
      "第7次迭代：x=-0.30000000000000016，y=0.49658561867122897\n",
      "第8次迭代：x=-0.20000000000000018，y=0.44932928973442815\n",
      "第9次迭代：x=-0.1000000000000002，y=0.40656999120007564\n",
      "第10次迭代：x=-2.220446049250313e-16，y=0.3678797744124984\n"
     ]
    },
    {
     "data": {
      "text/plain": [
       "<matplotlib.legend.Legend at 0x7faaa08e5130>"
      ]
     },
     "execution_count": 57,
     "metadata": {},
     "output_type": "execute_result"
    },
    {
     "data": {
      "image/png": "[encoded data removed]",
      "text/plain": [
       "<Figure size 720x432 with 1 Axes>"
      ]
     },
     "metadata": {
      "needs_background": "light"
     },
     "output_type": "display_data"
    }
   ],
   "source": [
    "x,y = LGKTF(-1, 0, 0.1, f2, 1)\n",
    "# correct = np.array([np.exp(-i) for i in x])\n",
    "correct = np.array([1.        , 0.90483742, 0.81873075, 0.74081822, 0.67032005,\n",
    "       0.60653066, 0.54881164, 0.4965853 , 0.44932896, 0.40656966,\n",
    "       0.36787944])\n",
    "plt.figure(figsize=(10,6))\n",
    "plt.grid()\n",
    "plt.plot(x, y, 'ok',label=\"龙格库塔法\")\n",
    "plt.plot(x, correct, 'r',label=\"精确解\")\n",
    "plt.legend()"
   ]
  },
  {
   "cell_type": "code",
   "execution_count": null,
   "id": "46c8266b",
   "metadata": {},
   "outputs": [],
   "source": []
  },
  {
   "cell_type": "code",
   "execution_count": null,
   "id": "c9597d9a",
   "metadata": {},
   "outputs": [],
   "source": []
  }
 ],
 "metadata": {
  "kernelspec": {
   "display_name": "Python 3",
   "language": "python",
   "name": "python3"
  },
  "language_info": {
   "codemirror_mode": {
    "name": "ipython",
    "version": 3
   },
   "file_extension": ".py",
   "mimetype": "text/x-python",
   "name": "python",
   "nbconvert_exporter": "python",
   "pygments_lexer": "ipython3",
   "version": "3.8.8"
  }
 },
 "nbformat": 4,
 "nbformat_minor": 5
}
