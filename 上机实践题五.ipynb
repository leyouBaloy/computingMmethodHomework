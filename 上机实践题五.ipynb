{
 "cells": [
  {
   "cell_type": "code",
   "execution_count": 44,
   "metadata": {},
   "outputs": [],
   "source": [
    "import numpy as np"
   ]
  },
  {
   "cell_type": "markdown",
   "metadata": {},
   "source": [
    "# 复化梯形公式"
   ]
  },
  {
   "cell_type": "code",
   "execution_count": 61,
   "metadata": {},
   "outputs": [],
   "source": [
    "def FHTX(f, a, b):\n",
    "    n = 100\n",
    "    h = (b-a)/n\n",
    "    s = h*f(a)/2 + h*f(b)/2\n",
    "    tmp = 0\n",
    "    for k in range(1,n):\n",
    "        tmp = tmp+f(a+k*h)\n",
    "    s = s + tmp*h\n",
    "    print(\"复化梯形公式\",s)\n",
    "    return s"
   ]
  },
  {
   "cell_type": "markdown",
   "metadata": {},
   "source": [
    "# 复化辛普生公式"
   ]
  },
  {
   "cell_type": "code",
   "execution_count": 62,
   "metadata": {},
   "outputs": [],
   "source": [
    "def FHXPS(f, a, b):\n",
    "    n = 100\n",
    "    h = (b-a)/n\n",
    "    x = a\n",
    "    s = f(a) - f(b)\n",
    "    for i in range(0,n):\n",
    "        x = x + h/2\n",
    "        s = s + 4*f(x)\n",
    "        x = x + h/2\n",
    "        s = s + 2*f(x)\n",
    "    s = s*h/6\n",
    "    print(\"复化辛普生公式\",s)\n",
    "    return s"
   ]
  },
  {
   "cell_type": "markdown",
   "metadata": {},
   "source": [
    "# 两点高斯勒让德公式"
   ]
  },
  {
   "cell_type": "code",
   "execution_count": null,
   "metadata": {},
   "outputs": [],
   "source": [
    "def GSLRD(f, a, b):\n",
    "    t = (b-a)/2\n",
    "    s = f(-1/np.sqrt(3)*t+a) + f(1/np.sqrt(3))"
   ]
  },
  {
   "cell_type": "code",
   "execution_count": 63,
   "metadata": {},
   "outputs": [],
   "source": [
    "def fun(x):\n",
    "    return x**2"
   ]
  },
  {
   "cell_type": "markdown",
   "metadata": {},
   "source": [
    "# 分别用复化梯形公式和复化辛普生公式计算积分"
   ]
  },
  {
   "cell_type": "code",
   "execution_count": 82,
   "metadata": {},
   "outputs": [],
   "source": [
    "def fun1(x):\n",
    "    y = ((1-np.exp(-x))**(1/2))/x\n",
    "    return y"
   ]
  },
  {
   "cell_type": "code",
   "execution_count": 83,
   "metadata": {},
   "outputs": [],
   "source": [
    "def fun2(x):\n",
    "    y = np.sqrt(1-np.sin(x)**2)\n",
    "    return y"
   ]
  },
  {
   "cell_type": "code",
   "execution_count": 85,
   "metadata": {},
   "outputs": [
    {
     "name": "stdout",
     "output_type": "stream",
     "text": [
      "复化梯形公式 0.4933328761120731\n",
      "复化辛普生公式 0.4933308377097356\n"
     ]
    },
    {
     "data": {
      "text/plain": [
       "0.4933308377097356"
      ]
     },
     "execution_count": 85,
     "metadata": {},
     "output_type": "execute_result"
    }
   ],
   "source": [
    "FHTX(fun1, 0.5, 1)\n",
    "FHXPS(fun1, 0.5 ,1)"
   ]
  },
  {
   "cell_type": "code",
   "execution_count": 81,
   "metadata": {},
   "outputs": [
    {
     "name": "stdout",
     "output_type": "stream",
     "text": [
      "复化梯形公式 0.4999988576841538\n",
      "复化辛普生公式 0.5000000000001302\n"
     ]
    },
    {
     "data": {
      "text/plain": [
       "0.5000000000001302"
      ]
     },
     "execution_count": 81,
     "metadata": {},
     "output_type": "execute_result"
    }
   ],
   "source": [
    "FHTX(fun2, 0, np.pi/6)\n",
    "FHXPS(fun2, 0, np.pi/6)"
   ]
  },
  {
   "cell_type": "markdown",
   "metadata": {},
   "source": [
    "# 高斯勒让德"
   ]
  },
  {
   "cell_type": "code",
   "execution_count": 3,
   "metadata": {},
   "outputs": [
    {
     "name": "stdout",
     "output_type": "stream",
     "text": [
      "GauThree Method: 10.948402570225653\n",
      "GauFive Method: 10.950170401863138\n"
     ]
    }
   ],
   "source": [
    "import numpy as np \n",
    "import math \n",
    "def fun(x): \n",
    "    y = np.exp(x)*math.sin(x) \n",
    "    return y \n",
    "def main(): \n",
    "    GauThree={0.7745966692:0.555555556,0:0.8888888889} \n",
    "    GauFive={0.9061798459:0.2369268851,0.5384693101:0.4786286705,0:0.5688888889} \n",
    "    GauSum=0.0 \n",
    "    a=1 \n",
    "    b=3 \n",
    "    for key,value in GauThree.items(): \n",
    "        GauSum+=fun(((b-a)*key+a+b)/2)*value \n",
    "        if(key>0): \n",
    "            GauSum+=fun(((a-b)*key+a+b)/2)*value \n",
    "    GauSum=GauSum*(b-a)/2 \n",
    "    print(\"GauThree Method:\",GauSum) \n",
    "    GauSum=0.0 \n",
    "    for key,value in GauFive.items(): \n",
    "        GauSum+=fun(((b-a)*key+a+b)/2)*value\n",
    "        if(key>0): \n",
    "            GauSum+=fun(((a-b)*key+a+b)/2)*value \n",
    "    GauSum=GauSum*(b-a)/2 \n",
    "    print(\"GauFive Method:\",GauSum) \n",
    "main()"
   ]
  },
  {
   "cell_type": "code",
   "execution_count": null,
   "metadata": {},
   "outputs": [],
   "source": []
  }
 ],
 "metadata": {
  "kernelspec": {
   "display_name": "Python 3",
   "language": "python",
   "name": "python3"
  },
  "language_info": {
   "codemirror_mode": {
    "name": "ipython",
    "version": 3
   },
   "file_extension": ".py",
   "mimetype": "text/x-python",
   "name": "python",
   "nbconvert_exporter": "python",
   "pygments_lexer": "ipython3",
   "version": "3.8.8"
  }
 },
 "nbformat": 4,
 "nbformat_minor": 4
}
