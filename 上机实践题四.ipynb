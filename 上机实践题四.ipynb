{
 "cells": [
  {
   "cell_type": "markdown",
   "metadata": {},
   "source": [
    "# 上机实践题四\n",
    "# 4.1牛顿法\n",
    "参考：https://blog.csdn.net/wwxy1995/article/details/84440110"
   ]
  },
  {
   "cell_type": "code",
   "execution_count": 1,
   "metadata": {},
   "outputs": [],
   "source": [
    "import matplotlib.pyplot as plt\n",
    "from pylab import mpl\n",
    "import numpy as np\n",
    "import pandas as pd\n",
    "import math\n",
    "%matplotlib inline"
   ]
  },
  {
   "cell_type": "code",
   "execution_count": 2,
   "metadata": {},
   "outputs": [],
   "source": [
    "def get_diff_table(X,Y):\n",
    "    \"\"\"\n",
    "    得到插商表\n",
    "    \"\"\"\n",
    "    n=len(X)\n",
    "    A=np.zeros([n,n])\n",
    "    \n",
    "    for i in range(0,n):\n",
    "        A[i][0] = Y[i]\n",
    "    \n",
    "    for j in range(1,n):\n",
    "        for i in range(j,n):\n",
    "            A[i][j] = (A[i][j-1] - A[i-1][j-1])/(X[i]-X[i-j])\n",
    "    \n",
    "    return A"
   ]
  },
  {
   "cell_type": "code",
   "execution_count": 3,
   "metadata": {},
   "outputs": [],
   "source": [
    "def newton_interpolation(X,Y,x):\n",
    "    \"\"\"\n",
    "    计算x点的插值\n",
    "    \"\"\"\n",
    "    sum=Y[0]\n",
    "    temp=np.zeros((len(X),len(X)))\n",
    "    #将第一行赋值\n",
    "    for i in range(0,len(X)):\n",
    "        temp[i,0]=Y[i]\n",
    "    temp_sum=1.0\n",
    "    for i in range(1,len(X)):\n",
    "        #x的多项式\n",
    "        temp_sum=temp_sum*(x-X[i-1])\n",
    "        #计算均差\n",
    "        for j in range(i,len(X)):\n",
    "            temp[j,i]=(temp[j,i-1]-temp[j-1,i-1])/(X[j]-X[j-i])\n",
    "        sum+=temp_sum*temp[i,i] \n",
    "    return sum"
   ]
  },
  {
   "cell_type": "markdown",
   "metadata": {},
   "source": [
    "### 插商表"
   ]
  },
  {
   "cell_type": "code",
   "execution_count": 4,
   "metadata": {},
   "outputs": [
    {
     "data": {
      "text/html": [
       "<div>\n",
       "<style scoped>\n",
       "    .dataframe tbody tr th:only-of-type {\n",
       "        vertical-align: middle;\n",
       "    }\n",
       "\n",
       "    .dataframe tbody tr th {\n",
       "        vertical-align: top;\n",
       "    }\n",
       "\n",
       "    .dataframe thead th {\n",
       "        text-align: right;\n",
       "    }\n",
       "</style>\n",
       "<table border=\"1\" class=\"dataframe\">\n",
       "  <thead>\n",
       "    <tr style=\"text-align: right;\">\n",
       "      <th></th>\n",
       "      <th>0</th>\n",
       "      <th>1</th>\n",
       "      <th>2</th>\n",
       "    </tr>\n",
       "  </thead>\n",
       "  <tbody>\n",
       "    <tr>\n",
       "      <th>0</th>\n",
       "      <td>0.190809</td>\n",
       "      <td>0.000000</td>\n",
       "      <td>0.000000</td>\n",
       "    </tr>\n",
       "    <tr>\n",
       "      <th>1</th>\n",
       "      <td>0.207912</td>\n",
       "      <td>0.017103</td>\n",
       "      <td>0.000000</td>\n",
       "    </tr>\n",
       "    <tr>\n",
       "      <th>2</th>\n",
       "      <td>0.224951</td>\n",
       "      <td>0.017039</td>\n",
       "      <td>-0.000032</td>\n",
       "    </tr>\n",
       "  </tbody>\n",
       "</table>\n",
       "</div>"
      ],
      "text/plain": [
       "          0         1         2\n",
       "0  0.190809  0.000000  0.000000\n",
       "1  0.207912  0.017103  0.000000\n",
       "2  0.224951  0.017039 -0.000032"
      ]
     },
     "execution_count": 4,
     "metadata": {},
     "output_type": "execute_result"
    }
   ],
   "source": [
    "X=[11,12,13]\n",
    "Y=[0.190809,0.207912,0.224951]\n",
    "A = get_diff_table(X,Y)\n",
    "df = pd.DataFrame(A)\n",
    "df"
   ]
  },
  {
   "cell_type": "markdown",
   "metadata": {},
   "source": [
    "### 计算插值点的值并画图"
   ]
  },
  {
   "cell_type": "code",
   "execution_count": 9,
   "metadata": {},
   "outputs": [],
   "source": [
    "xs=np.linspace(np.min(X),np.max(X),1000,endpoint=True)\n",
    "ys=[]\n",
    "for x in xs:\n",
    "    ys.append(newton_interpolation(X,Y,x))"
   ]
  },
  {
   "cell_type": "code",
   "execution_count": 13,
   "metadata": {},
   "outputs": [
    {
     "data": {
      "text/plain": [
       "<matplotlib.legend.Legend at 0x243d81d6e20>"
      ]
     },
     "execution_count": 13,
     "metadata": {},
     "output_type": "execute_result"
    },
    {
     "data": {
      "image/png": "[encoded data removed]",
      "text/plain": [
       "<Figure size 432x288 with 1 Axes>"
      ]
     },
     "metadata": {
      "needs_background": "light"
     },
     "output_type": "display_data"
    }
   ],
   "source": [
    "plt.title(\"newton_interpolation\")\n",
    "plt.plot(X,Y,'s',label=\"original values\")#蓝点表示原来的值\n",
    "plt.plot(xs,ys,'r',label='interpolation values')#插值曲线\n",
    "plt.xlabel('x')  \n",
    "plt.ylabel('y')  \n",
    "plt.legend(loc=4)#指定legend的位置右下角"
   ]
  },
  {
   "cell_type": "code",
   "execution_count": 11,
   "metadata": {},
   "outputs": [
    {
     "data": {
      "text/plain": [
       "0.19594662000000002"
      ]
     },
     "execution_count": 11,
     "metadata": {},
     "output_type": "execute_result"
    }
   ],
   "source": [
    "newton_interpolation(X, Y, 11.30)"
   ]
  },
  {
   "cell_type": "markdown",
   "metadata": {},
   "source": [
    "# 4.2求线性拟合曲线\n",
    "参考：https://www.jb51.net/article/132137.htm"
   ]
  },
  {
   "cell_type": "code",
   "execution_count": 15,
   "metadata": {},
   "outputs": [
    {
     "name": "stdout",
     "output_type": "stream",
     "text": [
      "k= 1.2500000000005456 b= 2.4499999999617224\n",
      "cost：3\n",
      "求解的拟合直线为:\n",
      "y=1.25x+2.45\n"
     ]
    },
    {
     "name": "stderr",
     "output_type": "stream",
     "text": [
      "D:\\Anaconda\\lib\\site-packages\\matplotlib\\backends\\backend_agg.py:214: RuntimeWarning: Glyph 25311 missing from current font.\n",
      "  font.set_text(s, 0.0, flags=flags)\n",
      "D:\\Anaconda\\lib\\site-packages\\matplotlib\\backends\\backend_agg.py:214: RuntimeWarning: Glyph 21512 missing from current font.\n",
      "  font.set_text(s, 0.0, flags=flags)\n",
      "D:\\Anaconda\\lib\\site-packages\\matplotlib\\backends\\backend_agg.py:214: RuntimeWarning: Glyph 30452 missing from current font.\n",
      "  font.set_text(s, 0.0, flags=flags)\n",
      "D:\\Anaconda\\lib\\site-packages\\matplotlib\\backends\\backend_agg.py:214: RuntimeWarning: Glyph 32447 missing from current font.\n",
      "  font.set_text(s, 0.0, flags=flags)\n",
      "D:\\Anaconda\\lib\\site-packages\\matplotlib\\backends\\backend_agg.py:214: RuntimeWarning: Glyph 26679 missing from current font.\n",
      "  font.set_text(s, 0.0, flags=flags)\n",
      "D:\\Anaconda\\lib\\site-packages\\matplotlib\\backends\\backend_agg.py:214: RuntimeWarning: Glyph 26412 missing from current font.\n",
      "  font.set_text(s, 0.0, flags=flags)\n",
      "D:\\Anaconda\\lib\\site-packages\\matplotlib\\backends\\backend_agg.py:214: RuntimeWarning: Glyph 25968 missing from current font.\n",
      "  font.set_text(s, 0.0, flags=flags)\n",
      "D:\\Anaconda\\lib\\site-packages\\matplotlib\\backends\\backend_agg.py:214: RuntimeWarning: Glyph 25454 missing from current font.\n",
      "  font.set_text(s, 0.0, flags=flags)\n",
      "D:\\Anaconda\\lib\\site-packages\\matplotlib\\backends\\backend_agg.py:183: RuntimeWarning: Glyph 25311 missing from current font.\n",
      "  font.set_text(s, 0, flags=flags)\n",
      "D:\\Anaconda\\lib\\site-packages\\matplotlib\\backends\\backend_agg.py:183: RuntimeWarning: Glyph 21512 missing from current font.\n",
      "  font.set_text(s, 0, flags=flags)\n",
      "D:\\Anaconda\\lib\\site-packages\\matplotlib\\backends\\backend_agg.py:183: RuntimeWarning: Glyph 30452 missing from current font.\n",
      "  font.set_text(s, 0, flags=flags)\n",
      "D:\\Anaconda\\lib\\site-packages\\matplotlib\\backends\\backend_agg.py:183: RuntimeWarning: Glyph 32447 missing from current font.\n",
      "  font.set_text(s, 0, flags=flags)\n",
      "D:\\Anaconda\\lib\\site-packages\\matplotlib\\backends\\backend_agg.py:183: RuntimeWarning: Glyph 26679 missing from current font.\n",
      "  font.set_text(s, 0, flags=flags)\n",
      "D:\\Anaconda\\lib\\site-packages\\matplotlib\\backends\\backend_agg.py:183: RuntimeWarning: Glyph 26412 missing from current font.\n",
      "  font.set_text(s, 0, flags=flags)\n",
      "D:\\Anaconda\\lib\\site-packages\\matplotlib\\backends\\backend_agg.py:183: RuntimeWarning: Glyph 25968 missing from current font.\n",
      "  font.set_text(s, 0, flags=flags)\n",
      "D:\\Anaconda\\lib\\site-packages\\matplotlib\\backends\\backend_agg.py:183: RuntimeWarning: Glyph 25454 missing from current font.\n",
      "  font.set_text(s, 0, flags=flags)\n"
     ]
    },
    {
     "data": {
      "image/png": "[encoded data removed]",
      "text/plain": [
       "<Figure size 576x432 with 1 Axes>"
      ]
     },
     "metadata": {
      "needs_background": "light"
     },
     "output_type": "display_data"
    }
   ],
   "source": [
    "##最小二乘法\n",
    "import numpy as np\n",
    "import scipy as sp\n",
    "import matplotlib.pyplot as plt\n",
    "from scipy.optimize import leastsq ##引入最小二乘法算法\n",
    "\n",
    "'''\n",
    "   设置样本数据，真实数据需要在这里处理\n",
    "'''\n",
    "##样本数据(Xi,Yi)，需要转换成数组(列表)形式\n",
    "Xi=np.array([1,2,3,4,5])\n",
    "Yi=np.array([4,4.5,6,8,8.5])\n",
    "\n",
    "'''\n",
    "  设定拟合函数和偏差函数\n",
    "  函数的形状确定过程：\n",
    "  1.先画样本图像\n",
    "  2.根据样本图像大致形状确定函数形式(直线、抛物线、正弦余弦等)\n",
    "'''\n",
    "\n",
    "##需要拟合的函数func :指定函数的形状\n",
    "def func(p,x):\n",
    "    k,b=p\n",
    "    return k*x+b\n",
    "\n",
    "##偏差函数：x,y都是列表:这里的x,y更上面的Xi,Yi中是一一对应的\n",
    "def error(p,x,y):\n",
    "    return func(p,x)-y\n",
    "\n",
    "'''\n",
    "  主要部分：附带部分说明\n",
    "  1.leastsq函数的返回值tuple，第一个元素是求解结果，第二个是求解的代价值(个人理解)\n",
    "  2.官网的原话（第二个值）：Value of the cost function at the solution\n",
    "  3.实例：Para=>(array([ 0.61349535, 1.79409255]), 3)\n",
    "  4.返回值元组中第一个值的数量跟需要求解的参数的数量一致\n",
    "'''\n",
    "\n",
    "#k,b的初始值，可以任意设定,经过几次试验，发现p0的值会影响cost的值：Para[1]\n",
    "p0=[1,20]\n",
    "\n",
    "#把error函数中除了p0以外的参数打包到args中(使用要求)\n",
    "Para=leastsq(error,p0,args=(Xi,Yi))\n",
    "\n",
    "#读取结果\n",
    "k,b=Para[0]\n",
    "print(\"k=\",k,\"b=\",b)\n",
    "print(\"cost：\"+str(Para[1]))\n",
    "print(\"求解的拟合直线为:\")\n",
    "print(\"y=\"+str(round(k,2))+\"x+\"+str(round(b,2)))\n",
    "\n",
    "'''\n",
    "  绘图，看拟合效果.\n",
    "  matplotlib默认不支持中文，label设置中文的话需要另行设置\n",
    "  如果报错，改成英文就可以\n",
    "'''\n",
    "\n",
    "#画样本点\n",
    "plt.figure(figsize=(8,6)) ##指定图像比例： 8：6\n",
    "plt.scatter(Xi,Yi,color=\"green\",label=\"样本数据\",linewidth=2) \n",
    "\n",
    "#画拟合直线\n",
    "x=np.linspace(0,12,100) ##在0-15直接画100个连续点\n",
    "y=k*x+b ##函数式\n",
    "plt.plot(x,y,color=\"red\",label=\"拟合直线\",linewidth=2) \n",
    "plt.legend(loc='lower right') #绘制图例\n",
    "plt.show()"
   ]
  },
  {
   "cell_type": "code",
   "execution_count": null,
   "metadata": {},
   "outputs": [],
   "source": []
  }
 ],
 "metadata": {
  "kernelspec": {
   "display_name": "Python 3",
   "language": "python",
   "name": "python3"
  },
  "language_info": {
   "codemirror_mode": {
    "name": "ipython",
    "version": 3
   },
   "file_extension": ".py",
   "mimetype": "text/x-python",
   "name": "python",
   "nbconvert_exporter": "python",
   "pygments_lexer": "ipython3",
   "version": "3.8.5"
  }
 },
 "nbformat": 4,
 "nbformat_minor": 4
}
